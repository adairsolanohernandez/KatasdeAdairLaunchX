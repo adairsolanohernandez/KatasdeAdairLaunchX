{
 "cells": [
  {
   "cell_type": "markdown",
   "metadata": {},
   "source": [
    "Ejercicio 1"
   ]
  },
  {
   "cell_type": "code",
   "execution_count": 4,
   "metadata": {},
   "outputs": [
    {
     "name": "stdout",
     "output_type": "stream",
     "text": [
      "7 planets\n",
      "Pluton\n"
     ]
    }
   ],
   "source": [
    "planets = ['Mercurio', 'Venus', 'Tierra', 'Marte','Jupiter','Saturno','Neptuno']\n",
    "print(len(planets), 'planets')\n",
    "planets.append('Pluton')\n",
    "\n",
    "print(planets[-1])"
   ]
  }
 ],
 "metadata": {
  "interpreter": {
   "hash": "3b3d9bd6eb4ca0a0a18c7baaff9f5538db0fd3c70a1011356169f9f372bc8064"
  },
  "kernelspec": {
   "display_name": "Python 3.10.2 64-bit",
   "language": "python",
   "name": "python3"
  },
  "language_info": {
   "codemirror_mode": {
    "name": "ipython",
    "version": 3
   },
   "file_extension": ".py",
   "mimetype": "text/x-python",
   "name": "python",
   "nbconvert_exporter": "python",
   "pygments_lexer": "ipython3",
   "version": "3.10.2"
  },
  "orig_nbformat": 4
 },
 "nbformat": 4,
 "nbformat_minor": 2
}
