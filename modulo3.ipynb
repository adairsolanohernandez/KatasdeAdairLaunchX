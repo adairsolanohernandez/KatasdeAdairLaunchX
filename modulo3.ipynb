{
 "cells": [
  {
   "cell_type": "markdown",
   "metadata": {},
   "source": [
    "Prueba"
   ]
  },
  {
   "cell_type": "code",
   "execution_count": 2,
   "metadata": {},
   "outputs": [
    {
     "name": "stdout",
     "output_type": "stream",
     "text": [
      "55\n"
     ]
    }
   ],
   "source": [
    "# Tip de práctica 1: Intenta ejecutarlo en un notebook.\n",
    "#a = 10\n",
    "#b = 55\n",
    "# test expression / expresión de prueba\n",
    "#if a < b:\n",
    "    # statement to be run / instrucción a ejecutar\n",
    " #   print(b)"
   ]
  },
  {
   "cell_type": "code",
   "execution_count": 4,
   "metadata": {},
   "outputs": [
    {
     "name": "stdout",
     "output_type": "stream",
     "text": [
      "¡Alerta asteoride!\n"
     ]
    }
   ],
   "source": [
    "#Velocidad del asteroide\n",
    "#asteroide = 49\n",
    "#advertencia = 25\n",
    "\n",
    "#if asteroide > advertencia:\n",
    "#    print('¡Alerta asteoride!')\n",
    "#else:\n",
    " #   print('¡No hay ningún problema!')"
   ]
  },
  {
   "cell_type": "code",
   "execution_count": 6,
   "metadata": {},
   "outputs": [
    {
     "name": "stdout",
     "output_type": "stream",
     "text": [
      "¡Rayo de luz visible en la tierra!\n"
     ]
    }
   ],
   "source": [
    "asteroide = 30\n",
    "\n",
    "if asteroide > 20:\n",
    "    print('¡Rayo de luz visible en la tierra!')\n",
    "elif asteroide == 20:\n",
    "    print('¡Rayo de luz visible en la Tierra!')\n",
    "else:\n",
    "    print('¡No hay nigún problema')"
   ]
  },
  {
   "cell_type": "code",
   "execution_count": 7,
   "metadata": {},
   "outputs": [
    {
     "name": "stdout",
     "output_type": "stream",
     "text": [
      "Look up! ¡Hay una luz mágica en el cielo!\n"
     ]
    }
   ],
   "source": [
    "velocidad_asteroide = 25\n",
    "tamano_asteroide = 40\n",
    "if velocidad_asteroide > 25 and tamano_asteroide > 25:\n",
    "    print('¡Alerta, Un asteroide muy peligroso viene hacia la Tierra!')\n",
    "elif velocidad_asteroide >= 20:\n",
    "    print('Look up! ¡Hay una luz mágica en el cielo!')\n",
    "elif tamano_asteroide < 25:\n",
    "    print('Nada que ver aquí :)')\n",
    "else:\n",
    "    print('Nada que ver aquí :)')"
   ]
  }
 ],
 "metadata": {
  "interpreter": {
   "hash": "3b3d9bd6eb4ca0a0a18c7baaff9f5538db0fd3c70a1011356169f9f372bc8064"
  },
  "kernelspec": {
   "display_name": "Python 3.10.2 64-bit",
   "language": "python",
   "name": "python3"
  },
  "language_info": {
   "codemirror_mode": {
    "name": "ipython",
    "version": 3
   },
   "file_extension": ".py",
   "mimetype": "text/x-python",
   "name": "python",
   "nbconvert_exporter": "python",
   "pygments_lexer": "ipython3",
   "version": "3.10.2"
  },
  "orig_nbformat": 4
 },
 "nbformat": 4,
 "nbformat_minor": 2
}
